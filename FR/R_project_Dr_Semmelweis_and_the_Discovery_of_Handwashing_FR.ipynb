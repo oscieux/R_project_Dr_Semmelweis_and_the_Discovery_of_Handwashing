{
 "cells": [
  {
   "cell_type": "markdown",
   "metadata": {},
   "source": [
    "# Table des matières\n",
    "\n",
    "<div class=\"alert alert-block alert-info\" style=\"margin-top: 20px\">\n",
    "    <ol>\n",
    "        <li><a href=\"#ref1\">A la rencontre du Dr. Ignaz Semmelweis</a></li>\n",
    "        <li><a href=\"#ref2\">Le nombre alarmant de morts</a></li>\n",
    "        <li><a href=\"#ref3\">Mort aux cliniques</a></li>\n",
    "        <li><a href=\"#ref4\">Le lavage des mains commence</a></li>\n",
    "        <li><a href=\"#ref5\">L'effet du lavage des mains</a></li>\n",
    "        <li><a href=\"#ref6\">L'effet du lavage des mains mis en évidence</a></li>\n",
    "        <li><a href=\"#ref7\">Plus de lavage des mains, moins de décès?</a></li>\n",
    "        <li><a href=\"#ref8\">Une analyse statistique sur les données de Semmelweis</a></li>\n",
    "        <li><a href=\"#ref9\">Le destin de Dr. Semmelweis</a></li>\n",
    "    </ol>\n",
    "</div>\n",
    "<br>"
   ]
  },
  {
   "cell_type": "markdown",
   "metadata": {},
   "source": [
    "<a id=\"ref1\"></a>\n",
    "## A la rencontre du Dr. Ignaz Semmelweis\n",
    "<p><img style=\"float: left;margin:5px 20px 5px 1px\" src=\"datasets/ignaz_semmelweis_1860.jpeg\"></p>\n",
    "<!--\n",
    "<img style=\"float: left;margin:5px 20px 5px 1px\" src=\"datasets/ignaz_semmelweis_1860.jpeg\">\n",
    "-->\n",
    "<p>Il s'agit du docteur Ignaz Semmelweis, un médecin hongrois né en 1818 et exerçant à l'hôpital général de Vienne. Si le Dr Semmelweis semble troublé, c'est probablement parce qu'il pense à la <em>fièvre infantile</em>: une maladie mortelle affectant les femmes qui viennent d'accoucher. Il y réfléchit parce qu'au début des années 1840, à l'Hôpital général de Vienne, 10% des femmes qui accouchaient en mouraient. Il y réfléchit parce qu'il connaît la cause de la fièvre de l'enfance: ce sont les mains contaminées des médecins qui aident les femmes à accoucher. Ces derniers ne l'écouteront pas et <em>s'en laveront les mains</em>!</p>\n",
    "<p>Dans ce notebook, nous allons réanalyser les données qui ont permis à Semmelweis de découvrir l’importance du <em>lavage des mains</em>. Commençons par examiner les données qui ont permis à Semmelweis de se rendre compte que les procédures à l’Hôpital général de Vienne avaient un problème.</p>"
   ]
  },
  {
   "cell_type": "code",
   "execution_count": 1,
   "metadata": {},
   "outputs": [
    {
     "name": "stderr",
     "output_type": "stream",
     "text": [
      "-- \u001b[1mAttaching packages\u001b[22m --------------------------------------- tidyverse 1.3.0 --\n",
      "\n",
      "\u001b[32mv\u001b[39m \u001b[34mggplot2\u001b[39m 3.3.0     \u001b[32mv\u001b[39m \u001b[34mpurrr  \u001b[39m 0.3.3\n",
      "\u001b[32mv\u001b[39m \u001b[34mtibble \u001b[39m 2.1.3     \u001b[32mv\u001b[39m \u001b[34mdplyr  \u001b[39m 0.8.4\n",
      "\u001b[32mv\u001b[39m \u001b[34mtidyr  \u001b[39m 1.0.2     \u001b[32mv\u001b[39m \u001b[34mstringr\u001b[39m 1.4.0\n",
      "\u001b[32mv\u001b[39m \u001b[34mreadr  \u001b[39m 1.3.1     \u001b[32mv\u001b[39m \u001b[34mforcats\u001b[39m 0.5.0\n",
      "\n",
      "-- \u001b[1mConflicts\u001b[22m ------------------------------------------ tidyverse_conflicts() --\n",
      "\u001b[31mx\u001b[39m \u001b[34mdplyr\u001b[39m::\u001b[32mfilter()\u001b[39m masks \u001b[34mstats\u001b[39m::filter()\n",
      "\u001b[31mx\u001b[39m \u001b[34mdplyr\u001b[39m::\u001b[32mlag()\u001b[39m    masks \u001b[34mstats\u001b[39m::lag()\n",
      "\n",
      "Parsed with column specification:\n",
      "cols(\n",
      "  year = \u001b[32mcol_double()\u001b[39m,\n",
      "  births = \u001b[32mcol_double()\u001b[39m,\n",
      "  deaths = \u001b[32mcol_double()\u001b[39m,\n",
      "  clinic = \u001b[31mcol_character()\u001b[39m\n",
      ")\n",
      "\n"
     ]
    },
    {
     "data": {
      "text/html": [
       "<table>\n",
       "<caption>A spec_tbl_df: 12 × 4</caption>\n",
       "<thead>\n",
       "\t<tr><th scope=col>year</th><th scope=col>births</th><th scope=col>deaths</th><th scope=col>clinic</th></tr>\n",
       "\t<tr><th scope=col>&lt;dbl&gt;</th><th scope=col>&lt;dbl&gt;</th><th scope=col>&lt;dbl&gt;</th><th scope=col>&lt;chr&gt;</th></tr>\n",
       "</thead>\n",
       "<tbody>\n",
       "\t<tr><td>1841</td><td>3036</td><td>237</td><td>clinic 1</td></tr>\n",
       "\t<tr><td>1842</td><td>3287</td><td>518</td><td>clinic 1</td></tr>\n",
       "\t<tr><td>1843</td><td>3060</td><td>274</td><td>clinic 1</td></tr>\n",
       "\t<tr><td>1844</td><td>3157</td><td>260</td><td>clinic 1</td></tr>\n",
       "\t<tr><td>1845</td><td>3492</td><td>241</td><td>clinic 1</td></tr>\n",
       "\t<tr><td>1846</td><td>4010</td><td>459</td><td>clinic 1</td></tr>\n",
       "\t<tr><td>1841</td><td>2442</td><td> 86</td><td>clinic 2</td></tr>\n",
       "\t<tr><td>1842</td><td>2659</td><td>202</td><td>clinic 2</td></tr>\n",
       "\t<tr><td>1843</td><td>2739</td><td>164</td><td>clinic 2</td></tr>\n",
       "\t<tr><td>1844</td><td>2956</td><td> 68</td><td>clinic 2</td></tr>\n",
       "\t<tr><td>1845</td><td>3241</td><td> 66</td><td>clinic 2</td></tr>\n",
       "\t<tr><td>1846</td><td>3754</td><td>105</td><td>clinic 2</td></tr>\n",
       "</tbody>\n",
       "</table>\n"
      ],
      "text/latex": [
       "A spec\\_tbl\\_df: 12 × 4\n",
       "\\begin{tabular}{llll}\n",
       " year & births & deaths & clinic\\\\\n",
       " <dbl> & <dbl> & <dbl> & <chr>\\\\\n",
       "\\hline\n",
       "\t 1841 & 3036 & 237 & clinic 1\\\\\n",
       "\t 1842 & 3287 & 518 & clinic 1\\\\\n",
       "\t 1843 & 3060 & 274 & clinic 1\\\\\n",
       "\t 1844 & 3157 & 260 & clinic 1\\\\\n",
       "\t 1845 & 3492 & 241 & clinic 1\\\\\n",
       "\t 1846 & 4010 & 459 & clinic 1\\\\\n",
       "\t 1841 & 2442 &  86 & clinic 2\\\\\n",
       "\t 1842 & 2659 & 202 & clinic 2\\\\\n",
       "\t 1843 & 2739 & 164 & clinic 2\\\\\n",
       "\t 1844 & 2956 &  68 & clinic 2\\\\\n",
       "\t 1845 & 3241 &  66 & clinic 2\\\\\n",
       "\t 1846 & 3754 & 105 & clinic 2\\\\\n",
       "\\end{tabular}\n"
      ],
      "text/markdown": [
       "\n",
       "A spec_tbl_df: 12 × 4\n",
       "\n",
       "| year &lt;dbl&gt; | births &lt;dbl&gt; | deaths &lt;dbl&gt; | clinic &lt;chr&gt; |\n",
       "|---|---|---|---|\n",
       "| 1841 | 3036 | 237 | clinic 1 |\n",
       "| 1842 | 3287 | 518 | clinic 1 |\n",
       "| 1843 | 3060 | 274 | clinic 1 |\n",
       "| 1844 | 3157 | 260 | clinic 1 |\n",
       "| 1845 | 3492 | 241 | clinic 1 |\n",
       "| 1846 | 4010 | 459 | clinic 1 |\n",
       "| 1841 | 2442 |  86 | clinic 2 |\n",
       "| 1842 | 2659 | 202 | clinic 2 |\n",
       "| 1843 | 2739 | 164 | clinic 2 |\n",
       "| 1844 | 2956 |  68 | clinic 2 |\n",
       "| 1845 | 3241 |  66 | clinic 2 |\n",
       "| 1846 | 3754 | 105 | clinic 2 |\n",
       "\n"
      ],
      "text/plain": [
       "   year births deaths clinic  \n",
       "1  1841 3036   237    clinic 1\n",
       "2  1842 3287   518    clinic 1\n",
       "3  1843 3060   274    clinic 1\n",
       "4  1844 3157   260    clinic 1\n",
       "5  1845 3492   241    clinic 1\n",
       "6  1846 4010   459    clinic 1\n",
       "7  1841 2442    86    clinic 2\n",
       "8  1842 2659   202    clinic 2\n",
       "9  1843 2739   164    clinic 2\n",
       "10 1844 2956    68    clinic 2\n",
       "11 1845 3241    66    clinic 2\n",
       "12 1846 3754   105    clinic 2"
      ]
     },
     "metadata": {},
     "output_type": "display_data"
    }
   ],
   "source": [
    "# Load in the tidyverse package\n",
    "library(tidyverse)\n",
    "\n",
    "# Read datasets/yearly_deaths_by_clinic.csv into yearly\n",
    "yearly <- read_csv('datasets/yearly_deaths_by_clinic.csv')\n",
    "\n",
    "# Print out yearly\n",
    "yearly"
   ]
  },
  {
   "cell_type": "markdown",
   "metadata": {},
   "source": [
    "<a id=\"ref2\"></a>\n",
    "## Le nombre alarmant de morts\n",
    "<p>Le tableau ci-dessus montre le nombre de femmes accouchant dans les deux cliniques de l'Hôpital général de Vienne pour les années 1841 à 1846. Vous remarquerez que l'accouchement était très dangereux; un nombre <em>alarmant</em> de femmes sont décédées des suites d'un accouchement, la plupart d'entre elles à la suite d'une fièvre infantile.</p>\n",
    "<p>Nous le voyons plus clairement si nous examinons la <em>proportion de décès</em> par rapport au nombre de femmes donnant naissance. Zoomons sur la proportion de décès à la clinique 1.</p>"
   ]
  },
  {
   "cell_type": "code",
   "execution_count": 2,
   "metadata": {},
   "outputs": [
    {
     "data": {
      "text/html": [
       "<table>\n",
       "<caption>A spec_tbl_df: 12 × 5</caption>\n",
       "<thead>\n",
       "\t<tr><th scope=col>year</th><th scope=col>births</th><th scope=col>deaths</th><th scope=col>clinic</th><th scope=col>proportion_deaths</th></tr>\n",
       "\t<tr><th scope=col>&lt;dbl&gt;</th><th scope=col>&lt;dbl&gt;</th><th scope=col>&lt;dbl&gt;</th><th scope=col>&lt;chr&gt;</th><th scope=col>&lt;dbl&gt;</th></tr>\n",
       "</thead>\n",
       "<tbody>\n",
       "\t<tr><td>1841</td><td>3036</td><td>237</td><td>clinic 1</td><td>0.07806324</td></tr>\n",
       "\t<tr><td>1842</td><td>3287</td><td>518</td><td>clinic 1</td><td>0.15759051</td></tr>\n",
       "\t<tr><td>1843</td><td>3060</td><td>274</td><td>clinic 1</td><td>0.08954248</td></tr>\n",
       "\t<tr><td>1844</td><td>3157</td><td>260</td><td>clinic 1</td><td>0.08235667</td></tr>\n",
       "\t<tr><td>1845</td><td>3492</td><td>241</td><td>clinic 1</td><td>0.06901489</td></tr>\n",
       "\t<tr><td>1846</td><td>4010</td><td>459</td><td>clinic 1</td><td>0.11446384</td></tr>\n",
       "\t<tr><td>1841</td><td>2442</td><td> 86</td><td>clinic 2</td><td>0.03521704</td></tr>\n",
       "\t<tr><td>1842</td><td>2659</td><td>202</td><td>clinic 2</td><td>0.07596841</td></tr>\n",
       "\t<tr><td>1843</td><td>2739</td><td>164</td><td>clinic 2</td><td>0.05987587</td></tr>\n",
       "\t<tr><td>1844</td><td>2956</td><td> 68</td><td>clinic 2</td><td>0.02300406</td></tr>\n",
       "\t<tr><td>1845</td><td>3241</td><td> 66</td><td>clinic 2</td><td>0.02036409</td></tr>\n",
       "\t<tr><td>1846</td><td>3754</td><td>105</td><td>clinic 2</td><td>0.02797017</td></tr>\n",
       "</tbody>\n",
       "</table>\n"
      ],
      "text/latex": [
       "A spec\\_tbl\\_df: 12 × 5\n",
       "\\begin{tabular}{lllll}\n",
       " year & births & deaths & clinic & proportion\\_deaths\\\\\n",
       " <dbl> & <dbl> & <dbl> & <chr> & <dbl>\\\\\n",
       "\\hline\n",
       "\t 1841 & 3036 & 237 & clinic 1 & 0.07806324\\\\\n",
       "\t 1842 & 3287 & 518 & clinic 1 & 0.15759051\\\\\n",
       "\t 1843 & 3060 & 274 & clinic 1 & 0.08954248\\\\\n",
       "\t 1844 & 3157 & 260 & clinic 1 & 0.08235667\\\\\n",
       "\t 1845 & 3492 & 241 & clinic 1 & 0.06901489\\\\\n",
       "\t 1846 & 4010 & 459 & clinic 1 & 0.11446384\\\\\n",
       "\t 1841 & 2442 &  86 & clinic 2 & 0.03521704\\\\\n",
       "\t 1842 & 2659 & 202 & clinic 2 & 0.07596841\\\\\n",
       "\t 1843 & 2739 & 164 & clinic 2 & 0.05987587\\\\\n",
       "\t 1844 & 2956 &  68 & clinic 2 & 0.02300406\\\\\n",
       "\t 1845 & 3241 &  66 & clinic 2 & 0.02036409\\\\\n",
       "\t 1846 & 3754 & 105 & clinic 2 & 0.02797017\\\\\n",
       "\\end{tabular}\n"
      ],
      "text/markdown": [
       "\n",
       "A spec_tbl_df: 12 × 5\n",
       "\n",
       "| year &lt;dbl&gt; | births &lt;dbl&gt; | deaths &lt;dbl&gt; | clinic &lt;chr&gt; | proportion_deaths &lt;dbl&gt; |\n",
       "|---|---|---|---|---|\n",
       "| 1841 | 3036 | 237 | clinic 1 | 0.07806324 |\n",
       "| 1842 | 3287 | 518 | clinic 1 | 0.15759051 |\n",
       "| 1843 | 3060 | 274 | clinic 1 | 0.08954248 |\n",
       "| 1844 | 3157 | 260 | clinic 1 | 0.08235667 |\n",
       "| 1845 | 3492 | 241 | clinic 1 | 0.06901489 |\n",
       "| 1846 | 4010 | 459 | clinic 1 | 0.11446384 |\n",
       "| 1841 | 2442 |  86 | clinic 2 | 0.03521704 |\n",
       "| 1842 | 2659 | 202 | clinic 2 | 0.07596841 |\n",
       "| 1843 | 2739 | 164 | clinic 2 | 0.05987587 |\n",
       "| 1844 | 2956 |  68 | clinic 2 | 0.02300406 |\n",
       "| 1845 | 3241 |  66 | clinic 2 | 0.02036409 |\n",
       "| 1846 | 3754 | 105 | clinic 2 | 0.02797017 |\n",
       "\n"
      ],
      "text/plain": [
       "   year births deaths clinic   proportion_deaths\n",
       "1  1841 3036   237    clinic 1 0.07806324       \n",
       "2  1842 3287   518    clinic 1 0.15759051       \n",
       "3  1843 3060   274    clinic 1 0.08954248       \n",
       "4  1844 3157   260    clinic 1 0.08235667       \n",
       "5  1845 3492   241    clinic 1 0.06901489       \n",
       "6  1846 4010   459    clinic 1 0.11446384       \n",
       "7  1841 2442    86    clinic 2 0.03521704       \n",
       "8  1842 2659   202    clinic 2 0.07596841       \n",
       "9  1843 2739   164    clinic 2 0.05987587       \n",
       "10 1844 2956    68    clinic 2 0.02300406       \n",
       "11 1845 3241    66    clinic 2 0.02036409       \n",
       "12 1846 3754   105    clinic 2 0.02797017       "
      ]
     },
     "metadata": {},
     "output_type": "display_data"
    }
   ],
   "source": [
    "# Adding a new column to yearly with proportion of deaths per no. births\n",
    "yearly <- yearly %>% mutate(proportion_deaths = deaths / births)\n",
    "\n",
    "# Print out yearly\n",
    "yearly"
   ]
  },
  {
   "cell_type": "markdown",
   "metadata": {},
   "source": [
    "<a id=\"ref3\"></a>\n",
    "## Mort aux cliniques\n",
    "<p>Si nous calculons maintenant la proportion de décès à la clinique 1 et à la clinique 2, nous verrons une tendance curieuse ...</p>"
   ]
  },
  {
   "cell_type": "code",
   "execution_count": 3,
   "metadata": {},
   "outputs": [
    {
     "data": {
      "image/png": "[encoded data removed]",
      "text/plain": [
       "plot without title"
      ]
     },
     "metadata": {
      "image/png": {
       "height": 240,
       "width": 420
      },
      "text/plain": {
       "height": 240,
       "width": 420
      }
     },
     "output_type": "display_data"
    }
   ],
   "source": [
    "# Setting the size of plots in this notebook\n",
    "options(repr.plot.width=7, repr.plot.height=4)\n",
    "\n",
    "# Plot yearly proportion of deaths at the two clinics\n",
    "p <- ggplot(yearly, aes(year, proportion_deaths, color = clinic))\n",
    "p + geom_line()"
   ]
  },
  {
   "cell_type": "markdown",
   "metadata": {},
   "source": [
    "<a id=\"ref4\"></a>\n",
    "## Le lavage des mains commence\n",
    "<p>Pourquoi la proportion de décès est-elle constamment aussi élevée dans la clinique 1? Semmelweis a vu le même modèle et était perplexe et angoissé. La seule différence entre les cliniques était que beaucoup d'étudiants en médecine excerçaient à la clinique 1, alors que c'étaient des sages-femmes à la clinique 2. Alors que les sages-femmes ne s'occupaient que des femmes qui donnaient naissance, les étudiants en médecine ont également passé du temps dans les salles d'autopsie pour examiner les cadavres.</p>\n",
    "<p>Semmelweis a commencé à soupçonner que quelque chose sur les cadavres, répendu sur les mains des étudiants en médecine, a provoqué une fièvre infantile. Donc, dans une tentative désespérée pour arrêter le taux de mortalité élevé, il a décrété: <em>Lavez-vous les mains!</em> C’était une demande peu orthodoxe et controversée, personne à Vienne n’avait entendu parler des bactéries pour le moment. </p>\n",
    "<p>Chargeons les données mensuelles de la clinique 1 pour voir si le lavage des mains a eu un effet.</p>"
   ]
  },
  {
   "cell_type": "code",
   "execution_count": 4,
   "metadata": {},
   "outputs": [
    {
     "name": "stderr",
     "output_type": "stream",
     "text": [
      "Parsed with column specification:\n",
      "cols(\n",
      "  date = \u001b[34mcol_date(format = \"\")\u001b[39m,\n",
      "  births = \u001b[32mcol_double()\u001b[39m,\n",
      "  deaths = \u001b[32mcol_double()\u001b[39m\n",
      ")\n",
      "\n"
     ]
    },
    {
     "data": {
      "text/html": [
       "<table>\n",
       "<caption>A tibble: 6 × 4</caption>\n",
       "<thead>\n",
       "\t<tr><th scope=col>date</th><th scope=col>births</th><th scope=col>deaths</th><th scope=col>proportion_deaths</th></tr>\n",
       "\t<tr><th scope=col>&lt;date&gt;</th><th scope=col>&lt;dbl&gt;</th><th scope=col>&lt;dbl&gt;</th><th scope=col>&lt;dbl&gt;</th></tr>\n",
       "</thead>\n",
       "<tbody>\n",
       "\t<tr><td>1841-01-01</td><td>254</td><td>37</td><td>0.145669291</td></tr>\n",
       "\t<tr><td>1841-02-01</td><td>239</td><td>18</td><td>0.075313808</td></tr>\n",
       "\t<tr><td>1841-03-01</td><td>277</td><td>12</td><td>0.043321300</td></tr>\n",
       "\t<tr><td>1841-04-01</td><td>255</td><td> 4</td><td>0.015686275</td></tr>\n",
       "\t<tr><td>1841-05-01</td><td>255</td><td> 2</td><td>0.007843137</td></tr>\n",
       "\t<tr><td>1841-06-01</td><td>200</td><td>10</td><td>0.050000000</td></tr>\n",
       "</tbody>\n",
       "</table>\n"
      ],
      "text/latex": [
       "A tibble: 6 × 4\n",
       "\\begin{tabular}{llll}\n",
       " date & births & deaths & proportion\\_deaths\\\\\n",
       " <date> & <dbl> & <dbl> & <dbl>\\\\\n",
       "\\hline\n",
       "\t 1841-01-01 & 254 & 37 & 0.145669291\\\\\n",
       "\t 1841-02-01 & 239 & 18 & 0.075313808\\\\\n",
       "\t 1841-03-01 & 277 & 12 & 0.043321300\\\\\n",
       "\t 1841-04-01 & 255 &  4 & 0.015686275\\\\\n",
       "\t 1841-05-01 & 255 &  2 & 0.007843137\\\\\n",
       "\t 1841-06-01 & 200 & 10 & 0.050000000\\\\\n",
       "\\end{tabular}\n"
      ],
      "text/markdown": [
       "\n",
       "A tibble: 6 × 4\n",
       "\n",
       "| date &lt;date&gt; | births &lt;dbl&gt; | deaths &lt;dbl&gt; | proportion_deaths &lt;dbl&gt; |\n",
       "|---|---|---|---|\n",
       "| 1841-01-01 | 254 | 37 | 0.145669291 |\n",
       "| 1841-02-01 | 239 | 18 | 0.075313808 |\n",
       "| 1841-03-01 | 277 | 12 | 0.043321300 |\n",
       "| 1841-04-01 | 255 |  4 | 0.015686275 |\n",
       "| 1841-05-01 | 255 |  2 | 0.007843137 |\n",
       "| 1841-06-01 | 200 | 10 | 0.050000000 |\n",
       "\n"
      ],
      "text/plain": [
       "  date       births deaths proportion_deaths\n",
       "1 1841-01-01 254    37     0.145669291      \n",
       "2 1841-02-01 239    18     0.075313808      \n",
       "3 1841-03-01 277    12     0.043321300      \n",
       "4 1841-04-01 255     4     0.015686275      \n",
       "5 1841-05-01 255     2     0.007843137      \n",
       "6 1841-06-01 200    10     0.050000000      "
      ]
     },
     "metadata": {},
     "output_type": "display_data"
    }
   ],
   "source": [
    "# Read datasets/monthly_deaths.csv into monthly\n",
    "monthly <- read_csv('datasets/monthly_deaths.csv')\n",
    "\n",
    "# Adding a new column with proportion of deaths per no. births\n",
    "monthly <- monthly %>% mutate(proportion_deaths = deaths / births)\n",
    "\n",
    "# Print out the first rows in monthly\n",
    "head(monthly)"
   ]
  },
  {
   "cell_type": "markdown",
   "metadata": {},
   "source": [
    "<a id=\"ref5\"></a>\n",
    "## L'effet du lavage des mains\n",
    "<p>Avec les données chargées, nous pouvons maintenant examiner la proportion de décès dans le temps. Dans le graphique ci-dessous, nous n'avons pas indiqué où le lavage obligatoire des mains avait commencé, mais la proportion de décès a tellement réduit que vous devriez pouvoir le repérer!</p>"
   ]
  },
  {
   "cell_type": "code",
   "execution_count": 5,
   "metadata": {},
   "outputs": [
    {
     "data": {
      "image/png": "[encoded data removed]",
      "text/plain": [
       "plot without title"
      ]
     },
     "metadata": {
      "image/png": {
       "height": 240,
       "width": 420
      },
      "text/plain": {
       "height": 240,
       "width": 420
      }
     },
     "output_type": "display_data"
    }
   ],
   "source": [
    "# Plot monthly proportion of deaths\n",
    "p <- ggplot(monthly, aes(date, proportion_deaths))\n",
    "p + geom_line() + labs(x = 'Date', y = 'Proportion of Deaths')"
   ]
  },
  {
   "cell_type": "markdown",
   "metadata": {},
   "source": [
    "<a id=\"ref6\"></a>\n",
    "## L'effet du lavage des mains mis en évidence\n",
    "<p>À partir de l'été 1847, la proportion de décès s'est considérablement réduite et c'est effectivement à ce moment-là que Semmelweis a rendu obligatoire le lavage des mains. </p>\n",
    "<p>L'effet du lavage des mains est encore plus clair si nous le soulignons dans le graphique.</p>"
   ]
  },
  {
   "cell_type": "code",
   "execution_count": 6,
   "metadata": {},
   "outputs": [
    {
     "data": {
      "image/png": "[encoded data removed]",
      "text/plain": [
       "plot without title"
      ]
     },
     "metadata": {
      "image/png": {
       "height": 240,
       "width": 420
      },
      "text/plain": {
       "height": 240,
       "width": 420
      }
     },
     "output_type": "display_data"
    }
   ],
   "source": [
    "# From this date handwashing was made mandatory\n",
    "handwashing_start = as.Date('1847-06-01')\n",
    "\n",
    "# Add a TRUE/FALSE column to monthly called handwashing_started\n",
    "monthly <- monthly %>% mutate(handwashing_started = date >= handwashing_start)\n",
    "\n",
    "# Plot monthly proportion of deaths before and after handwashing\n",
    "p <- ggplot(monthly, aes(date, proportion_deaths, color = handwashing_started))\n",
    "p + geom_line() + labs(x = 'Date', y = 'Proportion of Deaths')"
   ]
  },
  {
   "cell_type": "markdown",
   "metadata": {},
   "source": [
    "<a id=\"ref7\"></a>\n",
    "## Plus de lavage des mains, moins de décès?\n",
    "<p>Encore une fois, le graphique montre que le lavage des mains a eu un effet considérable. Combien a-t-il réduit la proportion mensuelle de décès en moyenne?</p>"
   ]
  },
  {
   "cell_type": "code",
   "execution_count": 7,
   "metadata": {},
   "outputs": [
    {
     "data": {
      "text/html": [
       "<table>\n",
       "<caption>A tibble: 2 × 2</caption>\n",
       "<thead>\n",
       "\t<tr><th scope=col>handwashing_started</th><th scope=col>mean_proportion_deaths</th></tr>\n",
       "\t<tr><th scope=col>&lt;lgl&gt;</th><th scope=col>&lt;dbl&gt;</th></tr>\n",
       "</thead>\n",
       "<tbody>\n",
       "\t<tr><td>FALSE</td><td>0.10504998</td></tr>\n",
       "\t<tr><td> TRUE</td><td>0.02109338</td></tr>\n",
       "</tbody>\n",
       "</table>\n"
      ],
      "text/latex": [
       "A tibble: 2 × 2\n",
       "\\begin{tabular}{ll}\n",
       " handwashing\\_started & mean\\_proportion\\_deaths\\\\\n",
       " <lgl> & <dbl>\\\\\n",
       "\\hline\n",
       "\t FALSE & 0.10504998\\\\\n",
       "\t  TRUE & 0.02109338\\\\\n",
       "\\end{tabular}\n"
      ],
      "text/markdown": [
       "\n",
       "A tibble: 2 × 2\n",
       "\n",
       "| handwashing_started &lt;lgl&gt; | mean_proportion_deaths &lt;dbl&gt; |\n",
       "|---|---|\n",
       "| FALSE | 0.10504998 |\n",
       "|  TRUE | 0.02109338 |\n",
       "\n"
      ],
      "text/plain": [
       "  handwashing_started mean_proportion_deaths\n",
       "1 FALSE               0.10504998            \n",
       "2  TRUE               0.02109338            "
      ]
     },
     "metadata": {},
     "output_type": "display_data"
    }
   ],
   "source": [
    "# Calculating the mean proportion of deaths \n",
    "# before and after handwashing.\n",
    "monthly_summary <- monthly %>% \n",
    "                    group_by(handwashing_started) %>% \n",
    "                        summarise(mean_proportion_deaths = mean(proportion_deaths))\n",
    "\n",
    "# Printing out the summary.\n",
    "monthly_summary"
   ]
  },
  {
   "cell_type": "markdown",
   "metadata": {},
   "source": [
    "<a id=\"ref8\"></a>\n",
    "## Une analyse statistique sur les données de Semmelweis\n",
    "<p>Cela a réduit la proportion de décès d'environ 8 points de pourcentage! De 10% en moyenne à seulement 2% (chiffre qui reste élevé par rapport aux normes modernes).</p>\n",
    "<p>Pour avoir une idée de l’incertitude entourant la réduction du nombre de décès dus au lavage des mains, nous pourrions examiner un intervalle de confiance (ici calculé à l'aide d'un test t).</p>"
   ]
  },
  {
   "cell_type": "code",
   "execution_count": 8,
   "metadata": {},
   "outputs": [
    {
     "data": {
      "text/plain": [
       "\n",
       "\tWelch Two Sample t-test\n",
       "\n",
       "data:  proportion_deaths by handwashing_started\n",
       "t = 9.6101, df = 92.435, p-value = 1.445e-15\n",
       "alternative hypothesis: true difference in means is not equal to 0\n",
       "95 percent confidence interval:\n",
       " 0.06660662 0.10130659\n",
       "sample estimates:\n",
       "mean in group FALSE  mean in group TRUE \n",
       "         0.10504998          0.02109338 \n"
      ]
     },
     "metadata": {},
     "output_type": "display_data"
    }
   ],
   "source": [
    "# Calculating a 95% Confidence intrerval using t.test \n",
    "test_result <- t.test( proportion_deaths ~ handwashing_started, data = monthly)\n",
    "test_result"
   ]
  },
  {
   "cell_type": "markdown",
   "metadata": {},
   "source": [
    "<a id=\"ref9\"></a>\n",
    "## Le destin de Dr. Semmelweis\n",
    "<p>Le lavage des mains réduit donc la proportion de décès de 6,7 à 10 points de pourcentage, selon un intervalle de confiance de 95%. Dans l’ensemble, il semblerait que Semmelweis disposait de preuves solides que le lavage des mains était une procédure simple mais très efficace pouvant sauver de nombreuses vies.</p>\n",
    "<p>La tragédie est que, malgré les preuves, la théorie de Semmelweis - selon laquelle la fièvre infantile était causée par une \"substance\" (ce que nous appelons aujourd'hui les <em>bactéries</em>) de cadavres dans une salle d'autopsie — a été ridiculisé par les scientifiques contemporains. La communauté médicale a en grande partie rejeté sa découverte et, en 1849, il a été contraint de quitter définitivement l'Hôpital général de Vienne.</p>\n",
    "<p>Une des raisons à cela est que la statistique et les arguments statistiques étaient rares en science médicale au XIXe siècle. Semmelweis n'a publié ses données que sous forme de longs tableaux de données brutes, mais n'a montré aucun graphique ni intervalle de confiance. S'il avait eu accès à l'analyse que nous venons de préparer, il aurait peut-être mieux réussi à faire laver les mains des médecins viennois.</p>"
   ]
  },
  {
   "cell_type": "code",
   "execution_count": 9,
   "metadata": {},
   "outputs": [],
   "source": [
    "# The data Semmelweis collected points to that:\n",
    "doctors_should_wash_their_hands <- TRUE"
   ]
  },
  {
   "cell_type": "markdown",
   "metadata": {},
   "source": [
    "# Merci d'avoir lu ce notebook!\n",
    "\n",
    "<strong>Auteur:</strong>  <a href=\"https://www.linkedin.com/in/oscieux/\">Olivier Scieux</a>, Data Scientist & Actuaire Produit NextGen\n",
    "\n",
    "<p>Pendant plus de 15 ans comme actuaire produit, <a href=\"https://www.linkedin.com/in/oscieux/\"> Olivier Scieux </a> a eu pour missions de créer de nouvelles offres, étudier la rentabilité des portefeuilles, suivre les performances et les risques.</p>\n",
    "\n",
    "<p>Conscient de l'impact de la révolution numérique sur les entreprises, il a repensé son métier et a trouvé un moyen pour apprivoiser cet environnement.</p>\n",
    "\n",
    "<p>Devenu adepte des formations en ligne qu'il pratique quotidiennement, <a href=\"https://www.linkedin.com/in/oscieux/\">Olivier Scieux</a> a acquis les connaissances en data science qui lui permettent aujourd'hui de proposer ses compétences de data scientist et d'actuaire produit nouvelle génération.</p>\n",
    "\n",
    "<p>Grâce à son expertise, il aide les entreprises à mieux comprendre leurs données afin de leur donner du sens et d'en extraire de la valeur pour les aider à prendre des décisions stratégiques ou opérationnelles.</p>\n",
    "\n",
    "<hr>\n",
    "\n",
    "<p>Copyright &copy; 2020 <a href=\"https://oscieux.github.io/\">OSDS</a>.</p>"
   ]
  }
 ],
 "metadata": {
  "kernelspec": {
   "display_name": "R",
   "language": "R",
   "name": "ir"
  },
  "language_info": {
   "codemirror_mode": "r",
   "file_extension": ".r",
   "mimetype": "text/x-r-source",
   "name": "R",
   "pygments_lexer": "r",
   "version": "3.6.3"
  },
  "toc": {
   "base_numbering": 1,
   "nav_menu": {},
   "number_sections": true,
   "sideBar": true,
   "skip_h1_title": true,
   "title_cell": "Table of Contents",
   "title_sidebar": "Contents",
   "toc_cell": false,
   "toc_position": {},
   "toc_section_display": true,
   "toc_window_display": false
  }
 },
 "nbformat": 4,
 "nbformat_minor": 2
}
